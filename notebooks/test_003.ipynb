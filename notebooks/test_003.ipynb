{
 "metadata": {
  "language_info": {
   "codemirror_mode": {
    "name": "ipython",
    "version": 3
   },
   "file_extension": ".py",
   "mimetype": "text/x-python",
   "name": "python",
   "nbconvert_exporter": "python",
   "pygments_lexer": "ipython3",
   "version": "3.7.6-final"
  },
  "orig_nbformat": 2,
  "kernelspec": {
   "name": "python3",
   "display_name": "Python 3.7.6 64-bit",
   "metadata": {
    "interpreter": {
     "hash": "0dffb5442d84be890217d664a91c46e420962c190ec91d07047007dfcc46efe8"
    }
   }
  }
 },
 "nbformat": 4,
 "nbformat_minor": 2,
 "cells": [
  {
   "cell_type": "code",
   "execution_count": 1,
   "metadata": {},
   "outputs": [],
   "source": [
    "import os\n",
    "os.environ['TF_FORCE_GPU_ALLOW_GROWTH'] = 'true'\n",
    "\n",
    "import sys\n",
    "import tensorflow as tf\n",
    "import math\n",
    "import numpy as np\n",
    "import imageio\n",
    "import json\n",
    "import random\n",
    "import time\n",
    "from run_nerf_helpers import *\n",
    "from load_llff import load_llff_data\n",
    "from load_deepvoxels import load_dv_data\n",
    "from load_blender import load_blender_data"
   ]
  },
  {
   "cell_type": "code",
   "execution_count": 2,
   "metadata": {},
   "outputs": [],
   "source": [
    "tf.compat.v1.enable_eager_execution()"
   ]
  },
  {
   "cell_type": "code",
   "execution_count": 31,
   "metadata": {},
   "outputs": [
    {
     "output_type": "stream",
     "name": "stdout",
     "text": [
      "MODEL_NERF 63 27 <class 'int'> <class 'int'> False\n(None, 90) (None, 63) (None, 27)\nModel: \"model_3\"\n__________________________________________________________________________________________________\nLayer (type)                    Output Shape         Param #     Connected to                     \n==================================================================================================\ninput_layer (InputLayer)        [(None, 90)]         0                                            \n__________________________________________________________________________________________________\ntf.split_3 (TFOpLambda)         [(None, 63), (None,  0           input_layer[0][0]                \n__________________________________________________________________________________________________\nlayer_1 (Dense)                 (None, 256)          16384       tf.split_3[0][0]                 \n__________________________________________________________________________________________________\nlayer_2 (Dense)                 (None, 256)          65792       layer_1[0][0]                    \n__________________________________________________________________________________________________\nlayer_3 (Dense)                 (None, 256)          65792       layer_2[0][0]                    \n__________________________________________________________________________________________________\nlayer_4 (Dense)                 (None, 256)          65792       layer_3[0][0]                    \n__________________________________________________________________________________________________\nlayer_5 (Dense)                 (None, 256)          65792       layer_4[0][0]                    \n__________________________________________________________________________________________________\ntf.concat_8 (TFOpLambda)        (None, 319)          0           tf.split_3[0][0]                 \n                                                                 layer_5[0][0]                    \n__________________________________________________________________________________________________\nlayer_6 (Dense)                 (None, 256)          81920       tf.concat_8[0][0]                \n__________________________________________________________________________________________________\nlayer_7 (Dense)                 (None, 256)          65792       layer_6[0][0]                    \n__________________________________________________________________________________________________\nlayer_8 (Dense)                 (None, 256)          65792       layer_7[0][0]                    \n__________________________________________________________________________________________________\nbottleneck (Dense)              (None, 256)          65792       layer_8[0][0]                    \n__________________________________________________________________________________________________\ntf.concat_9 (TFOpLambda)        (None, 283)          0           bottleneck[0][0]                 \n                                                                 tf.split_3[0][1]                 \n__________________________________________________________________________________________________\npre_rgb_layer_1 (Dense)         (None, 128)          36352       tf.concat_9[0][0]                \n__________________________________________________________________________________________________\nrgb_out (Dense)                 (None, 3)            387         pre_rgb_layer_1[0][0]            \n__________________________________________________________________________________________________\ndensity_out (Dense)             (None, 1)            257         layer_8[0][0]                    \n__________________________________________________________________________________________________\ntf.concat_10 (TFOpLambda)       (None, 4)            0           rgb_out[0][0]                    \n                                                                 density_out[0][0]                \n==================================================================================================\nTotal params: 595,844\nTrainable params: 595,844\nNon-trainable params: 0\n__________________________________________________________________________________________________\n"
     ]
    }
   ],
   "source": [
    "model_nerf = init_nerf_model(D = 8, W = 256, input_ch=63, input_ch_views=27, output_ch=5)\n",
    "model_nerf.summary()"
   ]
  },
  {
   "cell_type": "code",
   "execution_count": 45,
   "metadata": {},
   "outputs": [],
   "source": [
    "def load_weight_from_old_trained_model(path):\n",
    "    old_model_layers = ['layer_1/kernel:0', 'layer_1/bias:0', 'layer_2/kernel:0', 'layer_2/bias:0', 'layer_3/kernel:0',        \n",
    "    'layer_3/bias:0', 'layer_4/kernel:0', 'layer_4/bias:0', 'layer_5/kernel:0', 'layer_5/bias:0', 'layer_6/kernel:0',        \n",
    "    'layer_6/bias:0', 'layer_7/kernel:0', 'layer_7/bias:0', 'layer_8/kernel:0', 'layer_8/bias:0', 'bottleneck/kernel:0', \n",
    "    'bottleneck/bias:0', 'mu_layer_1/kernel:0', 'mu_layer_1/bias:0', 'pre_rgb_layer_1/kernel:0', 'pre_rgb_layer_1/bias:0',\n",
    "    'mu_layer_2/kernel:0', 'mu_layer_2/bias:0', 'rgb_out/kernel:0', 'rgb_out/bias:0', 'density_out/kernel:0', 'density_out/bias:0',\n",
    "    'mu_out/kernel:0', 'mu_out/bias:0']\n",
    "    print(len(old_model_layers))\n",
    "\n",
    "    weights = np.load(path, allow_pickle=True)\n",
    "    print(len(weights)) \n",
    "\n",
    "    trainable_layers = [l.name for l in model_nerf.trainable_variables]\n",
    "    valid_indices = []\n",
    "    for i, l in enumerate(old_model_layers):\n",
    "        if l in trainable_layers:\n",
    "            valid_indices.append(i)\n",
    "\n",
    "    weights = weights[valid_indices]\n",
    "    print(len(weights))  \n",
    "\n",
    "    return weights\n"
   ]
  },
  {
   "cell_type": "code",
   "execution_count": 46,
   "metadata": {},
   "outputs": [
    {
     "output_type": "stream",
     "name": "stdout",
     "text": [
      "30\n30\n24\n"
     ]
    }
   ],
   "source": [
    "trained_model_weights = 'trained/model_150000.npy'\n",
    "weights = load_weight_from_old_trained_model(trained_model_weights)\n",
    "model_nerf.set_weights(weights)"
   ]
  },
  {
   "cell_type": "code",
   "execution_count": 48,
   "metadata": {},
   "outputs": [],
   "source": [
    "model_nerf.set_weights(weights)\n",
    "save_loc = 'trained/transferred/model_150000.npy'\n",
    "np.save(save_loc, model_nerf.get_weights())\n",
    "model_nerf.set_weights(np.load(save_loc, allow_pickle=True))"
   ]
  },
  {
   "cell_type": "code",
   "execution_count": 43,
   "metadata": {},
   "outputs": [
    {
     "output_type": "stream",
     "name": "stdout",
     "text": [
      "MODEL_NERF 63 27 <class 'int'> <class 'int'> False\n(None, 90) (None, 63) (None, 27)\nModel: \"model_4\"\n__________________________________________________________________________________________________\nLayer (type)                    Output Shape         Param #     Connected to                     \n==================================================================================================\ninput_layer (InputLayer)        [(None, 90)]         0                                            \n__________________________________________________________________________________________________\ntf.split_4 (TFOpLambda)         [(None, 63), (None,  0           input_layer[0][0]                \n__________________________________________________________________________________________________\nlayer_1 (Dense)                 (None, 256)          16384       tf.split_4[0][0]                 \n__________________________________________________________________________________________________\nlayer_2 (Dense)                 (None, 256)          65792       layer_1[0][0]                    \n__________________________________________________________________________________________________\nlayer_3 (Dense)                 (None, 256)          65792       layer_2[0][0]                    \n__________________________________________________________________________________________________\nlayer_4 (Dense)                 (None, 256)          65792       layer_3[0][0]                    \n__________________________________________________________________________________________________\nlayer_5 (Dense)                 (None, 256)          65792       layer_4[0][0]                    \n__________________________________________________________________________________________________\ntf.concat_11 (TFOpLambda)       (None, 319)          0           tf.split_4[0][0]                 \n                                                                 layer_5[0][0]                    \n__________________________________________________________________________________________________\nlayer_6 (Dense)                 (None, 256)          81920       tf.concat_11[0][0]               \n__________________________________________________________________________________________________\nlayer_7 (Dense)                 (None, 256)          65792       layer_6[0][0]                    \n__________________________________________________________________________________________________\nlayer_8 (Dense)                 (None, 256)          65792       layer_7[0][0]                    \n__________________________________________________________________________________________________\nbottleneck (Dense)              (None, 256)          65792       layer_8[0][0]                    \n__________________________________________________________________________________________________\ntf.concat_12 (TFOpLambda)       (None, 283)          0           bottleneck[0][0]                 \n                                                                 tf.split_4[0][1]                 \n__________________________________________________________________________________________________\npre_rgb_layer_1 (Dense)         (None, 128)          36352       tf.concat_12[0][0]               \n__________________________________________________________________________________________________\nrgb_out (Dense)                 (None, 3)            387         pre_rgb_layer_1[0][0]            \n__________________________________________________________________________________________________\ndensity_out (Dense)             (None, 1)            257         layer_8[0][0]                    \n__________________________________________________________________________________________________\ntf.concat_13 (TFOpLambda)       (None, 4)            0           rgb_out[0][0]                    \n                                                                 density_out[0][0]                \n==================================================================================================\nTotal params: 595,844\nTrainable params: 595,844\nNon-trainable params: 0\n__________________________________________________________________________________________________\n"
     ]
    }
   ],
   "source": [
    "model_nerf_fine = init_nerf_model(D = 8, W = 256, input_ch=63, input_ch_views=27, output_ch=5)\n",
    "model_nerf_fine.summary()"
   ]
  },
  {
   "cell_type": "code",
   "execution_count": 50,
   "metadata": {},
   "outputs": [
    {
     "output_type": "stream",
     "name": "stdout",
     "text": [
      "30\n30\n24\n"
     ]
    }
   ],
   "source": [
    "trained_model_weights_fine = 'trained/model_fine_150000.npy'\n",
    "weights_fine = load_weight_from_old_trained_model(trained_model_weights_fine)\n",
    "model_nerf_fine.set_weights(weights_fine)"
   ]
  },
  {
   "cell_type": "code",
   "execution_count": 51,
   "metadata": {},
   "outputs": [
    {
     "output_type": "stream",
     "name": "stderr",
     "text": [
      "C:\\Program Files\\Python\\Python37\\lib\\site-packages\\numpy\\core\\_asarray.py:136: VisibleDeprecationWarning: Creating an ndarray from ragged nested sequences (which is a list-or-tuple of lists-or-tuples-or ndarrays with different lengths or shapes) is deprecated. If you meant to do this, you must specify 'dtype=object' when creating the ndarray\n  return array(a, dtype, copy=False, order=order, subok=True)\n"
     ]
    }
   ],
   "source": [
    "model_nerf_fine.set_weights(weights_fine)\n",
    "save_loc = 'trained/transferred/model_fine_150000.npy'\n",
    "np.save(save_loc, model_nerf_fine.get_weights())\n",
    "model_nerf_fine.set_weights(np.load(save_loc, allow_pickle=True))"
   ]
  },
  {
   "cell_type": "code",
   "execution_count": 54,
   "metadata": {},
   "outputs": [
    {
     "output_type": "execute_result",
     "data": {
      "text/plain": [
       "(109,)"
      ]
     },
     "metadata": {},
     "execution_count": 54
    }
   ],
   "source": [
    "opt = np.load('trained/optimizer_150000.npy', allow_pickle=True)\n",
    "opt.shape"
   ]
  },
  {
   "cell_type": "code",
   "execution_count": null,
   "metadata": {},
   "outputs": [],
   "source": []
  },
  {
   "cell_type": "code",
   "execution_count": 4,
   "metadata": {},
   "outputs": [
    {
     "output_type": "stream",
     "name": "stdout",
     "text": [
      "MODEL_MU 39 39 <class 'int'> <class 'int'> False\n(None, 78) (None, 39) (None, 39)\nModel: \"model_1\"\n__________________________________________________________________________________________________\nLayer (type)                    Output Shape         Param #     Connected to                     \n==================================================================================================\ninput_layer (InputLayer)        [(None, 78)]         0                                            \n__________________________________________________________________________________________________\ntf.split_1 (TFOpLambda)         [(None, 39), (None,  0           input_layer[0][0]                \n__________________________________________________________________________________________________\ntf.concat_3 (TFOpLambda)        (None, 78)           0           tf.split_1[0][0]                 \n                                                                 tf.split_1[0][1]                 \n__________________________________________________________________________________________________\nlayer_1 (Dense)                 (None, 256)          20224       tf.concat_3[0][0]                \n__________________________________________________________________________________________________\nlayer_2 (Dense)                 (None, 256)          65792       layer_1[0][0]                    \n__________________________________________________________________________________________________\nlayer_3 (Dense)                 (None, 256)          65792       layer_2[0][0]                    \n__________________________________________________________________________________________________\nlayer_4 (Dense)                 (None, 256)          65792       layer_3[0][0]                    \n__________________________________________________________________________________________________\nlayer_5 (Dense)                 (None, 256)          65792       layer_4[0][0]                    \n__________________________________________________________________________________________________\ntf.concat_4 (TFOpLambda)        (None, 334)          0           tf.split_1[0][0]                 \n                                                                 tf.split_1[0][1]                 \n                                                                 layer_5[0][0]                    \n__________________________________________________________________________________________________\nlayer_6 (Dense)                 (None, 256)          85760       tf.concat_4[0][0]                \n__________________________________________________________________________________________________\nlayer_7 (Dense)                 (None, 256)          65792       layer_6[0][0]                    \n__________________________________________________________________________________________________\nlayer_8 (Dense)                 (None, 256)          65792       layer_7[0][0]                    \n__________________________________________________________________________________________________\nmu_out (Dense)                  (None, 1)            257         layer_8[0][0]                    \n==================================================================================================\nTotal params: 500,993\nTrainable params: 500,993\nNon-trainable params: 0\n__________________________________________________________________________________________________\n"
     ]
    }
   ],
   "source": [
    "model_mu = init_mu_model(D = 8, W = 256, input_ch=39, input_ch_views=39, output_ch=5)\n",
    "model_mu.summary()"
   ]
  },
  {
   "cell_type": "code",
   "execution_count": null,
   "metadata": {},
   "outputs": [],
   "source": []
  }
 ]
}