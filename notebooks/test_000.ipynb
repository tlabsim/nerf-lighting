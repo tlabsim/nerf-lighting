{
 "metadata": {
  "language_info": {
   "codemirror_mode": {
    "name": "ipython",
    "version": 3
   },
   "file_extension": ".py",
   "mimetype": "text/x-python",
   "name": "python",
   "nbconvert_exporter": "python",
   "pygments_lexer": "ipython3",
   "version": "3.7.6-final"
  },
  "orig_nbformat": 2,
  "kernelspec": {
   "name": "python3",
   "display_name": "Python 3.7.6 64-bit",
   "metadata": {
    "interpreter": {
     "hash": "0dffb5442d84be890217d664a91c46e420962c190ec91d07047007dfcc46efe8"
    }
   }
  }
 },
 "nbformat": 4,
 "nbformat_minor": 2,
 "cells": [
  {
   "cell_type": "code",
   "execution_count": 26,
   "metadata": {},
   "outputs": [],
   "source": [
    "import numpy as np\n",
    "import tensorflow as tf\n",
    "from PIL import Image\n",
    "import matplotlib.pyplot as plt\n",
    "from misc_helpers import *"
   ]
  },
  {
   "cell_type": "code",
   "execution_count": 6,
   "metadata": {},
   "outputs": [
    {
     "output_type": "execute_result",
     "data": {
      "text/plain": [
       "<tf.Tensor: shape=(2, 2), dtype=float32, numpy=\n",
       "array([[0., 0.],\n",
       "       [0., 0.]], dtype=float32)>"
      ]
     },
     "metadata": {},
     "execution_count": 6
    }
   ],
   "source": [
    "tf.zeros((2, 2))"
   ]
  },
  {
   "cell_type": "code",
   "execution_count": 12,
   "metadata": {},
   "outputs": [
    {
     "output_type": "stream",
     "name": "stdout",
     "text": [
      "ndarray<tf.Tensor(\n[[9 8 1 6 9 0 9 7 7 0]\n [8 6 6 5 8 1 6 2 6 7]\n [4 4 6 0 1 0 4 8 6 2]\n [1 7 4 6 5 2 9 8 3 9]\n [2 3 7 7 7 6 6 4 3 9]], shape=(5, 10), dtype=int32)>\n"
     ]
    },
    {
     "output_type": "execute_result",
     "data": {
      "text/plain": [
       "<tf.Tensor: shape=(5, 10), dtype=int32, numpy=\n",
       "array([[9, 9, 8, 1, 6, 9, 0, 9, 7, 7],\n",
       "       [8, 8, 6, 6, 5, 8, 1, 6, 2, 6],\n",
       "       [4, 4, 4, 6, 0, 1, 0, 4, 8, 6],\n",
       "       [1, 1, 7, 4, 6, 5, 2, 9, 8, 3],\n",
       "       [2, 2, 3, 7, 7, 7, 6, 6, 4, 3]])>"
      ]
     },
     "metadata": {},
     "execution_count": 12
    }
   ],
   "source": [
    "a = tf.experimental.numpy.random.randint(0, 10, (5, 10))\n",
    "print(a)\n",
    "b = tf.concat([a[:, :1], a[:, :-1]], axis = 1)\n",
    "b\n"
   ]
  },
  {
   "cell_type": "code",
   "execution_count": 2,
   "metadata": {},
   "outputs": [],
   "source": [
    "img = Image.open('test_img.jpg')"
   ]
  },
  {
   "cell_type": "code",
   "execution_count": 4,
   "metadata": {},
   "outputs": [
    {
     "output_type": "execute_result",
     "data": {
      "text/plain": [
       "(1950, 1300)"
      ]
     },
     "metadata": {},
     "execution_count": 4
    }
   ],
   "source": [
    "w, h = img.size\n",
    "w, h"
   ]
  },
  {
   "cell_type": "code",
   "execution_count": 12,
   "metadata": {},
   "outputs": [
    {
     "output_type": "execute_result",
     "data": {
      "text/plain": [
       "'resized_image.png'"
      ]
     },
     "metadata": {},
     "execution_count": 12
    }
   ],
   "source": [
    "def change_ext(file, new_ext):\n",
    "    ri = file.rindex('.')\n",
    "    return file[:ri] + '.' + new_ext\n",
    "\n",
    "outfile = 'resized_image.jpg'\n",
    "outfile = change_ext(outfile, 'png')"
   ]
  },
  {
   "cell_type": "code",
   "execution_count": 8,
   "metadata": {},
   "outputs": [],
   "source": [
    "\n",
    "\n",
    "resized = img.resize((w//4, h//4), Image.ANTIALIAS)\n",
    "resized.save(outfile)"
   ]
  },
  {
   "cell_type": "code",
   "execution_count": 12,
   "metadata": {},
   "outputs": [],
   "source": [
    "image_folder = 'data/rubiks/cropped/images'"
   ]
  },
  {
   "cell_type": "code",
   "execution_count": 25,
   "metadata": {},
   "outputs": [
    {
     "output_type": "execute_result",
     "data": {
      "text/plain": [
       "['rubiks_1_07.jpg',\n",
       " 'rubiks_4_31.jpg',\n",
       " 'rubiks_3_09.jpg',\n",
       " 'rubiks_2_04.jpg',\n",
       " 'rubiks_3_04.jpg',\n",
       " 'rubiks_4_29.jpg',\n",
       " 'rubiks_5_03.jpg',\n",
       " 'rubiks_2_09.jpg',\n",
       " 'rubiks_2_28.jpg',\n",
       " 'rubiks_2_29.jpg',\n",
       " 'rubiks_1_26.jpg',\n",
       " 'rubiks_3_29.jpg',\n",
       " 'rubiks_1_16.jpg',\n",
       " 'rubiks_4_16.jpg',\n",
       " 'rubiks_2_25.jpg',\n",
       " 'rubiks_4_09.jpg',\n",
       " 'rubiks_1_29.jpg',\n",
       " 'rubiks_2_16.jpg',\n",
       " 'rubiks_3_19.jpg',\n",
       " 'rubiks_2_17.jpg',\n",
       " 'rubiks_4_24.jpg',\n",
       " 'rubiks_2_26.jpg',\n",
       " 'rubiks_1_08.jpg',\n",
       " 'rubiks_1_04.jpg',\n",
       " 'rubiks_1_11.jpg',\n",
       " 'rubiks_1_10.jpg',\n",
       " 'rubiks_4_22.jpg',\n",
       " 'rubiks_2_27.jpg',\n",
       " 'rubiks_3_27.jpg',\n",
       " 'rubiks_1_23.jpg',\n",
       " 'rubiks_2_19.jpg',\n",
       " 'rubiks_1_25.jpg',\n",
       " 'rubiks_4_12.jpg',\n",
       " 'rubiks_3_07.jpg',\n",
       " 'rubiks_1_21.jpg',\n",
       " 'rubiks_2_05.jpg',\n",
       " 'rubiks_1_19.jpg',\n",
       " 'rubiks_1_14.jpg',\n",
       " 'rubiks_2_11.jpg',\n",
       " 'rubiks_2_13.jpg',\n",
       " 'rubiks_2_03.jpg',\n",
       " 'rubiks_1_28.jpg',\n",
       " 'rubiks_2_00.jpg',\n",
       " 'rubiks_3_30.jpg',\n",
       " 'rubiks_3_06.jpg',\n",
       " 'rubiks_1_06.jpg',\n",
       " 'rubiks_3_02.jpg',\n",
       " 'rubiks_3_31.jpg',\n",
       " 'rubiks_3_00.jpg',\n",
       " 'rubiks_4_18.jpg',\n",
       " 'rubiks_2_31.jpg',\n",
       " 'rubiks_3_22.jpg',\n",
       " 'rubiks_4_21.jpg',\n",
       " 'rubiks_1_27.jpg',\n",
       " 'rubiks_3_03.jpg',\n",
       " 'rubiks_2_22.jpg',\n",
       " 'rubiks_4_03.jpg',\n",
       " 'rubiks_3_16.jpg',\n",
       " 'rubiks_4_19.jpg',\n",
       " 'rubiks_5_00.jpg',\n",
       " 'rubiks_4_01.jpg',\n",
       " 'rubiks_2_12.jpg',\n",
       " 'rubiks_2_21.jpg',\n",
       " 'rubiks_3_20.jpg',\n",
       " 'rubiks_4_30.jpg',\n",
       " 'rubiks_1_18.jpg',\n",
       " 'rubiks_1_09.jpg',\n",
       " 'rubiks_3_21.jpg',\n",
       " 'rubiks_1_15.jpg',\n",
       " 'rubiks_1_12.jpg',\n",
       " 'rubiks_2_18.jpg',\n",
       " 'rubiks_4_28.jpg',\n",
       " 'rubiks_1_22.jpg',\n",
       " 'rubiks_1_31.jpg',\n",
       " 'rubiks_4_20.jpg',\n",
       " 'rubiks_4_14.jpg',\n",
       " 'rubiks_3_11.jpg',\n",
       " 'rubiks_1_30.jpg',\n",
       " 'rubiks_4_06.jpg',\n",
       " 'rubiks_2_08.jpg',\n",
       " 'rubiks_3_25.jpg',\n",
       " 'rubiks_3_12.jpg',\n",
       " 'rubiks_4_26.jpg',\n",
       " 'rubiks_1_13.jpg',\n",
       " 'rubiks_3_15.jpg',\n",
       " 'rubiks_4_00.jpg',\n",
       " 'rubiks_3_10.jpg',\n",
       " 'rubiks_3_17.jpg',\n",
       " 'rubiks_4_05.jpg',\n",
       " 'rubiks_3_24.jpg',\n",
       " 'rubiks_2_24.jpg',\n",
       " 'rubiks_1_01.jpg',\n",
       " 'rubiks_1_24.jpg',\n",
       " 'rubiks_2_14.jpg',\n",
       " 'rubiks_2_23.jpg',\n",
       " 'rubiks_1_02.jpg',\n",
       " 'rubiks_4_11.jpg',\n",
       " 'rubiks_3_13.jpg',\n",
       " 'rubiks_3_01.jpg',\n",
       " 'rubiks_2_02.jpg',\n",
       " 'rubiks_4_15.jpg',\n",
       " 'rubiks_2_10.jpg',\n",
       " 'rubiks_2_06.jpg',\n",
       " 'rubiks_4_07.jpg',\n",
       " 'rubiks_3_28.jpg',\n",
       " 'rubiks_5_02.jpg',\n",
       " 'rubiks_3_14.jpg',\n",
       " 'rubiks_2_20.jpg',\n",
       " 'rubiks_3_26.jpg',\n",
       " 'rubiks_4_23.jpg',\n",
       " 'rubiks_4_17.jpg',\n",
       " 'rubiks_4_13.jpg',\n",
       " 'rubiks_2_07.jpg',\n",
       " 'rubiks_1_20.jpg',\n",
       " 'rubiks_4_04.jpg',\n",
       " 'rubiks_4_02.jpg',\n",
       " 'rubiks_3_18.jpg',\n",
       " 'rubiks_3_23.jpg',\n",
       " 'rubiks_4_25.jpg',\n",
       " 'rubiks_1_05.jpg',\n",
       " 'rubiks_5_01.jpg',\n",
       " 'rubiks_2_15.jpg',\n",
       " 'rubiks_4_27.jpg',\n",
       " 'rubiks_3_08.jpg',\n",
       " 'rubiks_2_30.jpg',\n",
       " 'rubiks_4_08.jpg',\n",
       " 'rubiks_1_03.jpg',\n",
       " 'rubiks_4_10.jpg',\n",
       " 'rubiks_2_01.jpg',\n",
       " 'rubiks_1_17.jpg',\n",
       " 'rubiks_3_05.jpg',\n",
       " 'rubiks_1_00.jpg']"
      ]
     },
     "metadata": {},
     "execution_count": 25
    }
   ],
   "source": [
    "images = os.listdir(image_folder)\n",
    "np.random.shuffle(images)\n",
    "images"
   ]
  },
  {
   "cell_type": "code",
   "execution_count": null,
   "metadata": {},
   "outputs": [],
   "source": [
    "plot_images"
   ]
  }
 ]
}