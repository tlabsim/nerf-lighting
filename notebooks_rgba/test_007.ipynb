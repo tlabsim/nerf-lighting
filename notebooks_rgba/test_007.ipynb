{
 "metadata": {
  "language_info": {
   "codemirror_mode": {
    "name": "ipython",
    "version": 3
   },
   "file_extension": ".py",
   "mimetype": "text/x-python",
   "name": "python",
   "nbconvert_exporter": "python",
   "pygments_lexer": "ipython3",
   "version": "3.7.6-final"
  },
  "orig_nbformat": 2,
  "kernelspec": {
   "name": "python3",
   "display_name": "Python 3.7.6 64-bit",
   "metadata": {
    "interpreter": {
     "hash": "0dffb5442d84be890217d664a91c46e420962c190ec91d07047007dfcc46efe8"
    }
   }
  }
 },
 "nbformat": 4,
 "nbformat_minor": 2,
 "cells": [
  {
   "cell_type": "code",
   "execution_count": 1,
   "metadata": {},
   "outputs": [],
   "source": [
    "import os\n",
    "os.environ['TF_FORCE_GPU_ALLOW_GROWTH'] = 'true'\n",
    "\n",
    "import sys\n",
    "import tensorflow as tf\n",
    "import numpy as np\n",
    "import imageio\n",
    "import json\n",
    "import random\n",
    "import time\n",
    "from run_nerf_helpers import *\n",
    "from nerf_renderer import *\n",
    "from misc_helpers import *\n",
    "from load_llff import load_llff_data\n",
    "\n",
    "tf.compat.v1.enable_eager_execution()"
   ]
  },
  {
   "cell_type": "code",
   "execution_count": 2,
   "metadata": {},
   "outputs": [
    {
     "output_type": "stream",
     "name": "stdout",
     "text": [
      "Loaded image data (500, 500, 4, 132) [ 500.         500.        1098.8775858]\nLoaded ./data/rubiks_rgba/ 2.2962166918186226 11.288918670814095\nData:\n(132, 3, 5) (132, 500, 500, 4) (132, 2)\nHOLDOUT view is 128\n"
     ]
    }
   ],
   "source": [
    "images, poses, bds, render_poses, i_test = load_llff_data('../data/rubiks_rgba/', 2,\n",
    "                                                                  recenter=True, bd_factor=.75,\n",
    "                                                                  spherify=True, rgba=True)"
   ]
  },
  {
   "cell_type": "code",
   "execution_count": 3,
   "metadata": {},
   "outputs": [],
   "source": [
    "i_test = np.arange(images.shape[0])[::8]\n",
    "i_train = np.array([i for i in np.arange(int(images.shape[0])) if\n",
    "                    (i not in i_test)])"
   ]
  },
  {
   "cell_type": "code",
   "execution_count": 4,
   "metadata": {},
   "outputs": [
    {
     "output_type": "stream",
     "name": "stdout",
     "text": [
      "500 500\n"
     ]
    }
   ],
   "source": [
    "hwf = poses[0, :3, -1]\n",
    "poses = poses[:, :3, :4]\n",
    "\n",
    "H, W, focal = hwf\n",
    "H, W = int(H), int(W)\n",
    "hwf = [H, W, focal]\n",
    "\n",
    "print(H, W)"
   ]
  },
  {
   "cell_type": "code",
   "execution_count": 5,
   "metadata": {},
   "outputs": [
    {
     "output_type": "execute_result",
     "data": {
      "text/plain": [
       "array([[-0.88162804, -0.39087975,  0.2644715 ,  0.23541795],\n",
       "       [ 0.46857107, -0.7918595 ,  0.39166266,  0.35601556],\n",
       "       [ 0.05633117,  0.46922433,  0.8812805 ,  0.8139291 ]],\n",
       "      dtype=float32)"
      ]
     },
     "metadata": {},
     "execution_count": 5
    }
   ],
   "source": [
    "poses[0]"
   ]
  },
  {
   "cell_type": "code",
   "execution_count": 6,
   "metadata": {},
   "outputs": [
    {
     "output_type": "stream",
     "name": "stdout",
     "text": [
      "get rays\n",
      "done, concats\n",
      "shuffle rays\n",
      "done\n"
     ]
    }
   ],
   "source": [
    "print('get rays')\n",
    "rays = [get_rays_np(H, W, focal, p) for p in poses[:, :3, :4]]\n",
    "rays = np.stack(rays, axis=0)  # [N, ro+rd, H, W, 3]\n",
    "print('done, concats')\n",
    "rays = np.transpose(rays, [0, 2, 3, 1, 4])\n",
    "rays = np.reshape(rays, list(rays.shape[:3]) + [6])\n",
    "rays_rgba = np.concatenate([rays, images], -1)\n",
    "rays_rgba = np.stack([rays_rgba[i]\n",
    "                        for i in i_train], axis=0)  # train images only\n",
    "rays_rgba = np.reshape(rays_rgba, [-1, 10])\n",
    "rays_rgba = rays_rgba.astype(np.float32)\n",
    "print('shuffle rays')\n",
    "np.random.shuffle(rays_rgba)\n",
    "print('done')"
   ]
  },
  {
   "cell_type": "code",
   "execution_count": 9,
   "metadata": {},
   "outputs": [
    {
     "output_type": "execute_result",
     "data": {
      "text/plain": [
       "array([ 0.95595187,  0.08639435,  0.28086206, -1.0113032 ,  0.12004511,\n",
       "       -0.1679882 ,  0.        ,  0.        ,  0.        ,  0.        ],\n",
       "      dtype=float32)"
      ]
     },
     "metadata": {},
     "execution_count": 9
    }
   ],
   "source": [
    "i_batch = 0\n",
    "N_rand = 1024\n",
    "batch = rays_rgba[i_batch:i_batch+N_rand]  # [B, 2+1, 3*?]\n",
    "batch[0]"
   ]
  },
  {
   "cell_type": "code",
   "execution_count": 16,
   "metadata": {},
   "outputs": [
    {
     "output_type": "execute_result",
     "data": {
      "text/plain": [
       "(2, 1024, 3)"
      ]
     },
     "metadata": {},
     "execution_count": 16
    }
   ],
   "source": [
    "batch_rays = batch[:, :6]\n",
    "target_rgb = batch[:, 6:9]\n",
    "target_alpha = batch[:, 9]\n",
    "\n",
    "batch_rays = np.reshape(batch_rays, [-1, 2, 3])\n",
    "batch_rays = np.transpose(batch_rays, [1, 0, 2])\n",
    "batch_rays.shape"
   ]
  },
  {
   "cell_type": "code",
   "execution_count": 12,
   "metadata": {},
   "outputs": [
    {
     "output_type": "execute_result",
     "data": {
      "text/plain": [
       "array([0.95595187, 0.08639435, 0.28086206], dtype=float32)"
      ]
     },
     "metadata": {},
     "execution_count": 12
    }
   ],
   "source": [
    "batch_rays[0, 0]"
   ]
  },
  {
   "cell_type": "code",
   "execution_count": 14,
   "metadata": {},
   "outputs": [
    {
     "output_type": "execute_result",
     "data": {
      "text/plain": [
       "(1024, 3)"
      ]
     },
     "metadata": {},
     "execution_count": 14
    }
   ],
   "source": [
    "target_rgb.shape"
   ]
  },
  {
   "cell_type": "code",
   "execution_count": 18,
   "metadata": {},
   "outputs": [
    {
     "output_type": "execute_result",
     "data": {
      "text/plain": [
       "(1024, 1)"
      ]
     },
     "metadata": {},
     "execution_count": 18
    }
   ],
   "source": [
    "target_alpha = np.reshape(target_alpha, [-1, 1])\n",
    "target_alpha.shape"
   ]
  },
  {
   "cell_type": "code",
   "execution_count": 21,
   "metadata": {},
   "outputs": [
    {
     "output_type": "execute_result",
     "data": {
      "text/plain": [
       "array([0., 0., 0., 0.], dtype=float32)"
      ]
     },
     "metadata": {},
     "execution_count": 21
    }
   ],
   "source": [
    "images[0][0, 0]"
   ]
  },
  {
   "cell_type": "code",
   "execution_count": null,
   "metadata": {},
   "outputs": [],
   "source": []
  }
 ]
}